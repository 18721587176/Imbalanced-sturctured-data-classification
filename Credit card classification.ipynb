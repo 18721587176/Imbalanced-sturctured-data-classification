{
 "cells": [
  {
   "cell_type": "code",
   "execution_count": 1,
   "metadata": {},
   "outputs": [],
   "source": [
    "import numpy as np\n",
    "import pandas as pd\n",
    "from matplotlib import pyplot as plt\n",
    "import tensorflow as tf\n",
    "from collections import Counter\n",
    "from sklearn import model_selection,svm\n",
    "from sklearn import metrics\n",
    "from sklearn.metrics import confusion_matrix,f1_score,precision_score,recall_score,\\\n",
    "                precision_recall_curve,roc_curve,roc_auc_score\n",
    "from imblearn.metrics import geometric_mean_score\n",
    "from imblearn.metrics import classification_report_imbalanced\n",
    "from imblearn.over_sampling import RandomOverSampler"
   ]
  },
  {
   "cell_type": "code",
   "execution_count": 2,
   "metadata": {},
   "outputs": [],
   "source": [
    "# Data load\n",
    "def data_load(file):\n",
    "    data = pd.read_csv(file)\n",
    "    x = data.iloc[:,0:-1].values\n",
    "    y = data.iloc[:,-1].values\n",
    "    print(x.shape, y.shape)\n",
    "    print(data.head())\n",
    "   \n",
    "    print(Counter(y))\n",
    "    return x, y"
   ]
  },
  {
   "cell_type": "code",
   "execution_count": 3,
   "metadata": {},
   "outputs": [],
   "source": [
    "# Data preprocess\n",
    "def data_preprocess(x, y):\n",
    "   \n",
    "    np.random.seed(112)\n",
    "    np.random.shuffle(x)\n",
    "    np.random.seed(112)\n",
    "    np.random.shuffle(y)\n",
    "    tf.random.set_seed(112)\n",
    "   \n",
    "    x_train, pre_x_test, y_train, pre_y_test = model_selection.train_test_split(\n",
    "     x, y, test_size=0.4,random_state=0)\n",
    "    x_vali, x_test, y_vali, y_test = model_selection.train_test_split(pre_x_test, pre_y_test, test_size=0.5, random_state=0)\n",
    "    print(x_train.shape, x_vali.shape, x_test.shape, y_train.shape, y_vali.shape, y_test.shape)  \n",
    "    return x_train, y_train, x_vali, y_vali, x_test, y_test"
   ]
  },
  {
   "cell_type": "code",
   "execution_count": 12,
   "metadata": {},
   "outputs": [],
   "source": [
    "def metrics_all(x_test, y_test):\n",
    "    y_pred= model_1.predict_classes(x_test)\n",
    "    # accuracy \n",
    "    val_acc = history.history['val_sparse_categorical_accuracy']\n",
    "    print('accuracy = {}\\n'.format(val_acc[-1]))\n",
    "    #  auc \n",
    "    fpr, tpr, thresholds = metrics.roc_curve(y_test, y_pred, pos_label=1)\n",
    "    auc = metrics.auc(fpr, tpr)\n",
    "    print('auc面积 = {0}\\n'.format(auc))\n",
    "\n",
    "    # F1-score \n",
    "    f1_micro = f1_score(y_test,y_pred,average='micro')\n",
    "    f1_macro = f1_score(y_test,y_pred,average='macro') \n",
    "    print('f1_score_minority = {0}\\n'.format(f1_micro))\n",
    "    print('f1_score_majority = {0}\\n'.format(f1_micro))\n",
    "\n",
    "    # precision, recall \n",
    "    con_matrix=confusion_matrix(y_test,y_pred)\n",
    "    P=precision_score(y_test,y_pred,average='binary')\n",
    "    R=recall_score(y_test,y_pred,average='binary')\n",
    "    F1=f1_score(y_test,y_pred,average='binary')\n",
    "    precision,recall,_=precision_recall_curve(y_test,y_pred)\n",
    "    fpr,tpr,_=roc_curve(y_test,y_pred)\n",
    "    print('precison = {}\\n'.format(P))\n",
    "    print('recall_score = {}\\n'.format(R))\n",
    "\n",
    "    # G-mean \n",
    "    G_mean=geometric_mean_score(y_test, y_pred)\n",
    "    print('G-mean = {}\\n'.format(G_mean))\n",
    "\n",
    "    # imbalance report\n",
    "    \n",
    "    \n",
    "    target_names = ['class 0', 'class 1'] # doctest : +NORMALIZE_WHITESPACE\n",
    "    print(classification_report_imbalanced(y_test, y_pred,     target_names=target_names))\n",
    "\n",
    "    # ROC \n",
    "    plt.figure()\n",
    "    lw = 2\n",
    "    plt.plot(fpr, tpr, color='darkorange',\n",
    "             lw=lw, label='ROC curve (area = %0.2f)' % auc)\n",
    "    plt.xlim([0.0, 1.0])\n",
    "    plt.ylim([0.0, 1.05])\n",
    "    plt.xlabel('False Positive Rate')\n",
    "    plt.ylabel('True Positive Rate')\n",
    "    plt.title('Receiver Operating Characteristic')\n",
    "    plt.legend(loc=\"lower right\")\n",
    "    plt.show()\n",
    "\n",
    "    # Accuracy and Loss \n",
    "    acc = history.history['sparse_categorical_accuracy'] \n",
    "    val_acc = history.history['val_sparse_categorical_accuracy'] \n",
    "    loss = history.history['loss']\n",
    "    val_loss = history.history['val_loss']\n",
    "\n",
    "    plt.subplot(1,2,1)\n",
    "    plt.plot(acc, label='Training Accuracy')\n",
    "    plt.plot(val_acc, label='validation Accuracy')\n",
    "    plt.title('Training and Validation Accuracy')\n",
    "    plt.legend()\n",
    "\n",
    "    plt.subplot(1, 2, 2)\n",
    "    plt.plot(loss, label='Training Loss')\n",
    "    plt.plot(val_loss, label='Validation Loss')\n",
    "    plt.title('Training and Validation Loss')\n",
    "    plt.legend()\n",
    "    plt.show()"
   ]
  },
  {
   "cell_type": "code",
   "execution_count": 10,
   "metadata": {},
   "outputs": [
    {
     "name": "stdout",
     "output_type": "stream",
     "text": [
      "(284807, 30) (284807,)\n",
      "   Time        V1        V2        V3        V4        V5        V6        V7  \\\n",
      "0   0.0 -1.359807 -0.072781  2.536347  1.378155 -0.338321  0.462388  0.239599   \n",
      "1   0.0  1.191857  0.266151  0.166480  0.448154  0.060018 -0.082361 -0.078803   \n",
      "2   1.0 -1.358354 -1.340163  1.773209  0.379780 -0.503198  1.800499  0.791461   \n",
      "3   1.0 -0.966272 -0.185226  1.792993 -0.863291 -0.010309  1.247203  0.237609   \n",
      "4   2.0 -1.158233  0.877737  1.548718  0.403034 -0.407193  0.095921  0.592941   \n",
      "\n",
      "         V8        V9  ...       V21       V22       V23       V24       V25  \\\n",
      "0  0.098698  0.363787  ... -0.018307  0.277838 -0.110474  0.066928  0.128539   \n",
      "1  0.085102 -0.255425  ... -0.225775 -0.638672  0.101288 -0.339846  0.167170   \n",
      "2  0.247676 -1.514654  ...  0.247998  0.771679  0.909412 -0.689281 -0.327642   \n",
      "3  0.377436 -1.387024  ... -0.108300  0.005274 -0.190321 -1.175575  0.647376   \n",
      "4 -0.270533  0.817739  ... -0.009431  0.798278 -0.137458  0.141267 -0.206010   \n",
      "\n",
      "        V26       V27       V28  Amount  Class  \n",
      "0 -0.189115  0.133558 -0.021053  149.62      0  \n",
      "1  0.125895 -0.008983  0.014724    2.69      0  \n",
      "2 -0.139097 -0.055353 -0.059752  378.66      0  \n",
      "3 -0.221929  0.062723  0.061458  123.50      0  \n",
      "4  0.502292  0.219422  0.215153   69.99      0  \n",
      "\n",
      "[5 rows x 31 columns]\n",
      "Counter({0: 284315, 1: 492})\n",
      "(170884, 30) (56961, 30) (56962, 30) (170884,) (56961,) (56962,)\n"
     ]
    }
   ],
   "source": [
    "x, y = data_load('creditcard.csv')\n",
    "x_train, y_train, x_vali, y_vali, x_test, y_test = data_preprocess(x, y)"
   ]
  },
  {
   "cell_type": "code",
   "execution_count": 11,
   "metadata": {},
   "outputs": [
    {
     "name": "stdout",
     "output_type": "stream",
     "text": [
      "Epoch 1/10\n",
      "5341/5341 [==============================] - 11s 2ms/step - loss: 24.4670 - sparse_categorical_accuracy: 0.9964 - val_loss: 3.3682 - val_sparse_categorical_accuracy: 0.9975\n",
      "Epoch 2/10\n",
      "5341/5341 [==============================] - 11s 2ms/step - loss: 17.9133 - sparse_categorical_accuracy: 0.9960 - val_loss: 21.4929 - val_sparse_categorical_accuracy: 0.9980\n",
      "Epoch 3/10\n",
      "5341/5341 [==============================] - 10s 2ms/step - loss: 10.8471 - sparse_categorical_accuracy: 0.9963 - val_loss: 12.6302 - val_sparse_categorical_accuracy: 0.9979\n",
      "Epoch 4/10\n",
      "5341/5341 [==============================] - 11s 2ms/step - loss: 8.4774 - sparse_categorical_accuracy: 0.9962 - val_loss: 4.1902 - val_sparse_categorical_accuracy: 0.9978\n",
      "Epoch 5/10\n",
      "5341/5341 [==============================] - 11s 2ms/step - loss: 7.2356 - sparse_categorical_accuracy: 0.9963 - val_loss: 1.4411 - val_sparse_categorical_accuracy: 0.9977\n",
      "Epoch 6/10\n",
      "5341/5341 [==============================] - 11s 2ms/step - loss: 6.7766 - sparse_categorical_accuracy: 0.9965 - val_loss: 2.0476 - val_sparse_categorical_accuracy: 0.9978\n",
      "Epoch 7/10\n",
      "5341/5341 [==============================] - 10s 2ms/step - loss: 5.5386 - sparse_categorical_accuracy: 0.9965 - val_loss: 0.2535 - val_sparse_categorical_accuracy: 0.9950\n",
      "Epoch 8/10\n",
      "5341/5341 [==============================] - 11s 2ms/step - loss: 4.2778 - sparse_categorical_accuracy: 0.9966 - val_loss: 4.7453 - val_sparse_categorical_accuracy: 0.9980\n",
      "Epoch 9/10\n",
      "5341/5341 [==============================] - 10s 2ms/step - loss: 4.9907 - sparse_categorical_accuracy: 0.9966 - val_loss: 8.8513 - val_sparse_categorical_accuracy: 0.9981\n",
      "Epoch 10/10\n",
      "5341/5341 [==============================] - 10s 2ms/step - loss: 3.4912 - sparse_categorical_accuracy: 0.9971 - val_loss: 0.3418 - val_sparse_categorical_accuracy: 0.9975\n",
      "Model: \"sequential_2\"\n",
      "_________________________________________________________________\n",
      "Layer (type)                 Output Shape              Param #   \n",
      "=================================================================\n",
      "flatten_2 (Flatten)          (None, 30)                0         \n",
      "_________________________________________________________________\n",
      "dense_4 (Dense)              (None, 128)               3968      \n",
      "_________________________________________________________________\n",
      "dense_5 (Dense)              (None, 2)                 258       \n",
      "=================================================================\n",
      "Total params: 4,226\n",
      "Trainable params: 4,226\n",
      "Non-trainable params: 0\n",
      "_________________________________________________________________\n"
     ]
    }
   ],
   "source": [
    "# 2.1 MLP model\n",
    "model_1 = tf.keras.models.Sequential([\n",
    "    tf.keras.layers.Flatten(),   \n",
    "    tf.keras.layers.Dense(128, activation='relu'),\n",
    "    tf.keras.layers.Dense(2, activation='softmax')  \n",
    "])\n",
    "model_1.compile(optimizer='adam',\n",
    "              loss=tf.keras.losses.SparseCategoricalCrossentropy(from_logits=False),\n",
    "              metrics=['sparse_categorical_accuracy'])\n",
    "history = model_1.fit(x_train, y_train, batch_size=32, epochs=10, validation_data=(x_vali,y_vali), validation_freq=1)\n",
    "model_1.summary()"
   ]
  },
  {
   "cell_type": "code",
   "execution_count": 13,
   "metadata": {},
   "outputs": [
    {
     "name": "stdout",
     "output_type": "stream",
     "text": [
      "WARNING:tensorflow:From <ipython-input-12-3d898e1b9f53>:2: Sequential.predict_classes (from tensorflow.python.keras.engine.sequential) is deprecated and will be removed after 2021-01-01.\n",
      "Instructions for updating:\n",
      "Please use instead:* `np.argmax(model.predict(x), axis=-1)`,   if your model does multi-class classification   (e.g. if it uses a `softmax` last-layer activation).* `(model.predict(x) > 0.5).astype(\"int32\")`,   if your model does binary classification   (e.g. if it uses a `sigmoid` last-layer activation).\n",
      "accuracy = 0.997524619102478\n",
      "\n",
      "auc面积 = 0.8182960839510386\n",
      "\n",
      "f1_score_minority = 0.9977002212000983\n",
      "\n",
      "f1_score_majority = 0.9977002212000983\n",
      "\n",
      "precison = 0.3821656050955414\n",
      "\n",
      "recall_score = 0.6382978723404256\n",
      "\n",
      "G-mean = 0.7982537972515922\n",
      "\n",
      "                   pre       rec       spe        f1       geo       iba       sup\n",
      "\n",
      "    class 0       1.00      1.00      0.64      1.00      0.80      0.66     56868\n",
      "    class 1       0.38      0.64      1.00      0.48      0.80      0.61        94\n",
      "\n",
      "avg / total       1.00      1.00      0.64      1.00      0.80      0.66     56962\n",
      "\n"
     ]
    },
    {
     "data": {
      "image/png": "[encoded data removed]",
      "text/plain": [
       "<Figure size 432x288 with 1 Axes>"
      ]
     },
     "metadata": {
      "needs_background": "light"
     },
     "output_type": "display_data"
    },
    {
     "data": {
      "image/png": "[encoded data removed]",
      "text/plain": [
       "<Figure size 432x288 with 2 Axes>"
      ]
     },
     "metadata": {
      "needs_background": "light"
     },
     "output_type": "display_data"
    }
   ],
   "source": [
    "metrics_all(x_test, y_test)"
   ]
  },
  {
   "cell_type": "code",
   "execution_count": null,
   "metadata": {},
   "outputs": [],
   "source": []
  },
  {
   "cell_type": "code",
   "execution_count": null,
   "metadata": {},
   "outputs": [],
   "source": []
  },
  {
   "cell_type": "code",
   "execution_count": null,
   "metadata": {},
   "outputs": [],
   "source": []
  },
  {
   "cell_type": "code",
   "execution_count": null,
   "metadata": {},
   "outputs": [],
   "source": []
  }
 ],
 "metadata": {
  "kernelspec": {
   "display_name": "Python 3",
   "language": "python",
   "name": "python3"
  },
  "language_info": {
   "codemirror_mode": {
    "name": "ipython",
    "version": 3
   },
   "file_extension": ".py",
   "mimetype": "text/x-python",
   "name": "python",
   "nbconvert_exporter": "python",
   "pygments_lexer": "ipython3",
   "version": "3.8.3"
  }
 },
 "nbformat": 4,
 "nbformat_minor": 4
}
